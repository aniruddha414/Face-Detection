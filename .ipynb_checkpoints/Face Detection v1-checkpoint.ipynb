{
 "cells": [
  {
   "cell_type": "markdown",
   "metadata": {},
   "source": [
    "# Face Recognition using OPEN CV"
   ]
  },
  {
   "cell_type": "code",
   "execution_count": 1,
   "metadata": {},
   "outputs": [],
   "source": [
    "# Importing necessary libraries\n",
    "import cv2\n",
    "# opencv cascades are not based on any neural networks \n",
    "# loading cascades\n",
    "\n",
    "# Cascades are series of filters that are applied one another to detect face and eyes\n",
    "face_cascade = cv2.CascadeClassifier('haarcascade_frontalface_default.xml') \n",
    "eyes_cascade = cv2.CascadeClassifier('haarcascade_eye.xml')"
   ]
  },
  {
   "cell_type": "markdown",
   "metadata": {},
   "source": [
    "## Function for performing detections"
   ]
  },
  {
   "cell_type": "code",
   "execution_count": 1,
   "metadata": {},
   "outputs": [],
   "source": [
    "# defining function that will get co-ordinates of rectangle for detecting face and eyes and loop to iterate through different faces\n",
    "\n",
    "# function will work on different images from video of webcam\n",
    "# Cascades work on black and white images\n",
    "def detect(gray,frame):\n",
    "    faces = face_cascade.detectMultiScale(gray,1.4,5) # returns tuple of co-od upper left corner, width and height.1.4 is scaling factor and 5 no. of neighbor zones\n",
    "    \n",
    "    # loop to iterate through different faces\n",
    "    for (x_top,y_top,width,height) in faces:\n",
    "        # specify frame to draw rectangle, co-od of rect,color,thickness\n",
    "        cv2.rectangle(frame,(x_top,y_top),(x_top+width,y_top+height),(0,0,255),2)\n",
    "        \n",
    "        # Locate eyes\n",
    "        # Region of Interest for gray image\n",
    "        roi_gray = gray[y_top:y_top+height,x_top:x_top+width] # zone of interest i.e deteceted rectangle\n",
    "        \n",
    "        # Region of Interest for normal image\n",
    "        roi_color = frame[y_top:y_top+height,x_top:x_top+width]\n",
    "        \n",
    "        eyes = eyes_cascade.detectMultiScale(roi_gray,1.2,5)  # reduces computation time as we reduced frame to face only\n",
    "        \n",
    "        # loop to draw rectangles for eyes\n",
    "        for (ex_top,ey_top,ewidth,eheight) in eyes:\n",
    "            # specify frame to draw rectangle, co-od of rect,color,thickness\n",
    "            cv2.rectangle(roi_color,(ex_top,ey_top),(ex_top+ewidth,ey_top+eheight),(255,0,0),2)\n",
    "    return frame    "
   ]
  },
  {
   "cell_type": "markdown",
   "metadata": {},
   "source": [
    "### Use of detect function on images from webcam"
   ]
  },
  {
   "cell_type": "code",
   "execution_count": null,
   "metadata": {},
   "outputs": [],
   "source": [
    "video_capture = cv2.VideoCapture(0) # 0 for inbuilt and 1 for external\n",
    "while True:\n",
    "    _, frame = video_capture.read()\n",
    "    gray = cv2.cvtColor(frame,COLOR_BGR2GRAY)\n",
    "    canvas = detect(gray,frame)\n",
    "    cv2.imshow('Video',canvas) # display in animated way\n",
    "    if cv2.waitKey(1) & 0xFF == ord('q'):\n",
    "        break\n",
    "#turn off the webcam\n",
    "video_capture.release()\n",
    "#destroy all windows\n",
    "cv2.destroyAllWindows()"
   ]
  }
 ],
 "metadata": {
  "kernelspec": {
   "display_name": "Python 3",
   "language": "python",
   "name": "python3"
  },
  "language_info": {
   "codemirror_mode": {
    "name": "ipython",
    "version": 3
   },
   "file_extension": ".py",
   "mimetype": "text/x-python",
   "name": "python",
   "nbconvert_exporter": "python",
   "pygments_lexer": "ipython3",
   "version": "3.5.4"
  }
 },
 "nbformat": 4,
 "nbformat_minor": 2
}
